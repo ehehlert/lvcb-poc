{
 "cells": [
  {
   "cell_type": "code",
   "execution_count": 1,
   "metadata": {},
   "outputs": [],
   "source": [
    "import pandas as pd\n",
    "from sklearn.feature_extraction.text import TfidfVectorizer\n",
    "from joblib import dump"
   ]
  },
  {
   "cell_type": "code",
   "execution_count": 2,
   "metadata": {},
   "outputs": [
    {
     "name": "stdout",
     "output_type": "stream",
     "text": [
      "['25' 'address' 'ampere' 'amps' 'auxiliary' 'breaker' 'circuit' 'cleaned'\n",
      " 'contact' 'contacts']\n"
     ]
    }
   ],
   "source": [
    "# Create TF-IDF vectorizer for LVCB content based on the top 1000 words\n",
    "\n",
    "training_data = pd.read_pickle('../eee-lvcb/all_tables.pkl')\n",
    "content_corpus = training_data['content'].apply(lambda x: ' '.join(map(str, x)))\n",
    "\n",
    "tfidf_vectorizer_content = TfidfVectorizer(max_features=50, stop_words='english')\n",
    "tfidf_vectorizer_content.fit(content_corpus)\n",
    "\n",
    "content_feature_names = tfidf_vectorizer_content.get_feature_names_out()\n",
    "print(content_feature_names[:10])"
   ]
  },
  {
   "cell_type": "code",
   "execution_count": 3,
   "metadata": {},
   "outputs": [
    {
     "name": "stdout",
     "output_type": "stream",
     "text": [
      "['air' 'breaker' 'case' 'circuit' 'continued' 'inspection' 'low' 'report'\n",
      " 'test' 'voltage']\n"
     ]
    }
   ],
   "source": [
    "# Create TF-IDF vectorizer for LVCB titles based on the top 100 words\n",
    "\n",
    "titles_corpus = training_data['layout_title_text']\n",
    "\n",
    "tfidf_vectorizer_titles = TfidfVectorizer(max_features=10, stop_words='english')\n",
    "tfidf_vectorizer_titles.fit(titles_corpus)\n",
    "\n",
    "title_feature_names = tfidf_vectorizer_titles.get_feature_names_out()\n",
    "print(title_feature_names[:10])"
   ]
  },
  {
   "cell_type": "code",
   "execution_count": 4,
   "metadata": {},
   "outputs": [
    {
     "data": {
      "text/plain": [
       "['tfidf_vectorizer_titles.joblib']"
      ]
     },
     "execution_count": 4,
     "metadata": {},
     "output_type": "execute_result"
    }
   ],
   "source": [
    "dump(tfidf_vectorizer_content, 'tfidf_vectorizer_content.joblib')\n",
    "dump(tfidf_vectorizer_titles, 'tfidf_vectorizer_titles.joblib')"
   ]
  }
 ],
 "metadata": {
  "kernelspec": {
   "display_name": ".venv",
   "language": "python",
   "name": "python3"
  },
  "language_info": {
   "codemirror_mode": {
    "name": "ipython",
    "version": 3
   },
   "file_extension": ".py",
   "mimetype": "text/x-python",
   "name": "python",
   "nbconvert_exporter": "python",
   "pygments_lexer": "ipython3",
   "version": "3.11.3"
  }
 },
 "nbformat": 4,
 "nbformat_minor": 2
}
