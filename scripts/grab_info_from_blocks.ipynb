{
 "cells": [
  {
   "cell_type": "code",
   "execution_count": null,
   "metadata": {},
   "outputs": [],
   "source": [
    "# CURRENTLY TRYING TO READ MULTIPLE JSON FILES, AND GRAB ALL CELL IDS BY BLOCK AND LOG THEIR COORDINATES\n",
    "\n",
    "# THIS INFO WILL THEN BE COMBINED WITH A_cells.csv\n",
    "\n",
    "import json\n",
    "import pandas as pd\n",
    "\n",
    "json_to_process = ['1-100.json', '101-300.json', '750-999.json']\n",
    "\n",
    "# Function to find items by ID\n",
    "def find_item_by_id(item_id):\n",
    "    return next((item for item in data if item.get('Id') == item_id), None)\n",
    "\n",
    "dataframes = []\n",
    "\n",
    "for json_file in json_to_process:\n",
    "    data = json.load(json_file)\n",
    "    cell_ids = \n"
   ]
  }
 ],
 "metadata": {
  "language_info": {
   "name": "python"
  }
 },
 "nbformat": 4,
 "nbformat_minor": 2
}
